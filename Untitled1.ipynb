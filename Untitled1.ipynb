{
 "cells": [
  {
   "cell_type": "code",
   "execution_count": 1,
   "metadata": {},
   "outputs": [],
   "source": [
    "import pandas as pd\n",
    "import cv2\n",
    "import os\n",
    "import matplotlib.pyplot as plt"
   ]
  },
  {
   "cell_type": "code",
   "execution_count": 2,
   "metadata": {},
   "outputs": [],
   "source": [
    "folders = [\"0-PALM\", \"1-THUMBSUP\", \"2-VICTORY\", \"3-POINT\", \"4-ROCK\", \"5-OK\"]"
   ]
  },
  {
   "cell_type": "code",
   "execution_count": 3,
   "metadata": {},
   "outputs": [
    {
     "data": {
      "text/html": [
       "<div>\n",
       "<style scoped>\n",
       "    .dataframe tbody tr th:only-of-type {\n",
       "        vertical-align: middle;\n",
       "    }\n",
       "\n",
       "    .dataframe tbody tr th {\n",
       "        vertical-align: top;\n",
       "    }\n",
       "\n",
       "    .dataframe thead th {\n",
       "        text-align: right;\n",
       "    }\n",
       "</style>\n",
       "<table border=\"1\" class=\"dataframe\">\n",
       "  <thead>\n",
       "    <tr style=\"text-align: right;\">\n",
       "      <th></th>\n",
       "      <th>path</th>\n",
       "      <th>gesture</th>\n",
       "    </tr>\n",
       "  </thead>\n",
       "  <tbody>\n",
       "    <tr>\n",
       "      <th>0</th>\n",
       "      <td>inputs/0-PALM/B_P_hgr1_id08_1.jpg</td>\n",
       "      <td>0</td>\n",
       "    </tr>\n",
       "    <tr>\n",
       "      <th>1</th>\n",
       "      <td>inputs/0-PALM/B_P_hgr1_id12_2.jpg</td>\n",
       "      <td>0</td>\n",
       "    </tr>\n",
       "    <tr>\n",
       "      <th>2</th>\n",
       "      <td>inputs/0-PALM/5_A_hgr2A2_id02_1.bmp</td>\n",
       "      <td>0</td>\n",
       "    </tr>\n",
       "    <tr>\n",
       "      <th>3</th>\n",
       "      <td>inputs/0-PALM/B_P_hgr1_id12_2.bmp</td>\n",
       "      <td>0</td>\n",
       "    </tr>\n",
       "    <tr>\n",
       "      <th>4</th>\n",
       "      <td>inputs/0-PALM/B_P_hgr1_id06_2.jpg</td>\n",
       "      <td>0</td>\n",
       "    </tr>\n",
       "  </tbody>\n",
       "</table>\n",
       "</div>"
      ],
      "text/plain": [
       "                                  path gesture\n",
       "0    inputs/0-PALM/B_P_hgr1_id08_1.jpg       0\n",
       "1    inputs/0-PALM/B_P_hgr1_id12_2.jpg       0\n",
       "2  inputs/0-PALM/5_A_hgr2A2_id02_1.bmp       0\n",
       "3    inputs/0-PALM/B_P_hgr1_id12_2.bmp       0\n",
       "4    inputs/0-PALM/B_P_hgr1_id06_2.jpg       0"
      ]
     },
     "metadata": {},
     "output_type": "display_data"
    }
   ],
   "source": [
    "images = pd.DataFrame(columns=[\"path\", \"gesture\"])\n",
    "for folder in folders:\n",
    "    for f_name in os.listdir('inputs/'+folder):\n",
    "        images = images.append({\"path\": 'inputs/'+folder+'/'+f_name, \"gesture\": folder[0]}, ignore_index=True)\n",
    "\n",
    "        \n",
    "display(images.head())"
   ]
  },
  {
   "cell_type": "code",
   "execution_count": 4,
   "metadata": {},
   "outputs": [],
   "source": [
    "img = cv2.imread(images[\"path\"][0], cv2.IMREAD_COLOR)"
   ]
  },
  {
   "cell_type": "code",
   "execution_count": 8,
   "metadata": {},
   "outputs": [],
   "source": [
    "img_resized = cv2.resize(img, (50,50), interpolation = cv2.INTER_AREA)"
   ]
  },
  {
   "cell_type": "code",
   "execution_count": 9,
   "metadata": {},
   "outputs": [],
   "source": [
    "imgYCC = cv2.cvtColor(img_resized, cv2.COLOR_BGR2YCR_CB)"
   ]
  },
  {
   "cell_type": "code",
   "execution_count": 16,
   "metadata": {},
   "outputs": [
    {
     "name": "stdout",
     "output_type": "stream",
     "text": [
      "(50, 50, 3)\n"
     ]
    },
    {
     "data": {
      "text/plain": [
       "array([119, 155, 112], dtype=uint8)"
      ]
     },
     "execution_count": 16,
     "metadata": {},
     "output_type": "execute_result"
    }
   ],
   "source": [
    "print(imgYCC.shape)\n",
    "height, width = imgYCC.shape[:2]\n",
    "\n",
    "middle_color = imgYCC[25,25]\n",
    "y_range = 20\n",
    "cb_range = 15\n",
    "cr_range = 10"
   ]
  },
  {
   "cell_type": "code",
   "execution_count": 24,
   "metadata": {},
   "outputs": [
    {
     "data": {
      "text/plain": [
       "array([[[ 30, 117, 140],\n",
       "        [ 31, 117, 141],\n",
       "        [ 33, 116, 141],\n",
       "        ...,\n",
       "        [ 22, 119, 139],\n",
       "        [ 21, 119, 139],\n",
       "        [ 21, 119, 138]],\n",
       "\n",
       "       [[ 31, 116, 141],\n",
       "        [ 33, 116, 141],\n",
       "        [ 33, 116, 142],\n",
       "        ...,\n",
       "        [ 23, 118, 139],\n",
       "        [ 22, 119, 139],\n",
       "        [ 21, 119, 138]],\n",
       "\n",
       "       [[ 32, 116, 142],\n",
       "        [ 33, 116, 142],\n",
       "        [ 33, 117, 142],\n",
       "        ...,\n",
       "        [ 24, 118, 139],\n",
       "        [ 23, 118, 139],\n",
       "        [ 22, 119, 138]],\n",
       "\n",
       "       ...,\n",
       "\n",
       "       [[ 29, 117, 140],\n",
       "        [ 29, 117, 140],\n",
       "        [ 29, 117, 140],\n",
       "        ...,\n",
       "        [ 21, 119, 138],\n",
       "        [ 19, 119, 139],\n",
       "        [ 15, 122, 135]],\n",
       "\n",
       "       [[ 29, 117, 140],\n",
       "        [ 29, 117, 140],\n",
       "        [ 29, 117, 140],\n",
       "        ...,\n",
       "        [ 19, 120, 136],\n",
       "        [ 16, 122, 135],\n",
       "        [  7, 127, 131]],\n",
       "\n",
       "       [[ 28, 117, 139],\n",
       "        [ 29, 117, 139],\n",
       "        [ 29, 117, 140],\n",
       "        ...,\n",
       "        [  7, 127, 130],\n",
       "        [  7, 127, 129],\n",
       "        [  6, 128, 129]]], dtype=uint8)"
      ]
     },
     "execution_count": 24,
     "metadata": {},
     "output_type": "execute_result"
    }
   ],
   "source": [
    "def processImage(path):\n",
    "    img = cv2.imread(path, cv2.IMREAD_COLOR)\n",
    "    img_resized = cv2.resize(img, (100,100), interpolation = cv2.INTER_AREA)\n",
    "    imgYCC = cv2.cvtColor(img_resized, cv2.COLOR_BGR2YCR_CB)\n",
    "    height, width = imgYCC.shape[:2]\n",
    "    middle_color = imgYCC[25,25]\n",
    "    y_range = 20\n",
    "    cb_range = 15\n",
    "    cr_range = 10\n",
    "    return imgYCC\n",
    "    \n",
    "img = cv2.imread(images[\"path\"][0], cv2.IMREAD_COLOR)\n",
    "processImage(images[\"path\"][0])\n"
   ]
  },
  {
   "cell_type": "code",
   "execution_count": 27,
   "metadata": {},
   "outputs": [],
   "source": [
    "X = []\n",
    "y = []\n",
    "for i in range(len(images)):\n",
    "    X.append(processImage(images[\"path\"][i]))\n",
    "    y.append(images[\"gesture\"][i])"
   ]
  },
  {
   "cell_type": "code",
   "execution_count": 29,
   "metadata": {},
   "outputs": [
    {
     "data": {
      "text/plain": [
       "183.20000000000002"
      ]
     },
     "execution_count": 29,
     "metadata": {},
     "output_type": "execute_result"
    }
   ],
   "source": [
    "len(X)*0.8"
   ]
  },
  {
   "cell_type": "code",
   "execution_count": 30,
   "metadata": {},
   "outputs": [
    {
     "data": {
      "text/plain": [
       "183.20000000000002"
      ]
     },
     "execution_count": 30,
     "metadata": {},
     "output_type": "execute_result"
    }
   ],
   "source": [
    "X_train = X[:183]\n",
    "X_test = X[183:]\n",
    "y_train = y[:183]\n",
    "y_test = y[183:]"
   ]
  },
  {
   "cell_type": "code",
   "execution_count": 31,
   "metadata": {},
   "outputs": [
    {
     "ename": "NameError",
     "evalue": "name 'VGG16' is not defined",
     "output_type": "error",
     "traceback": [
      "\u001b[0;31m---------------------------------------------------------------------------\u001b[0m",
      "\u001b[0;31mNameError\u001b[0m                                 Traceback (most recent call last)",
      "\u001b[0;32m<ipython-input-31-66bac4e898ed>\u001b[0m in \u001b[0;36m<module>\u001b[0;34m()\u001b[0m\n\u001b[0;32m----> 1\u001b[0;31m model_vgg16_conv = VGG16(\n\u001b[0m\u001b[1;32m      2\u001b[0m     \u001b[0mweights\u001b[0m\u001b[0;34m=\u001b[0m\u001b[0;34m'imagenet'\u001b[0m\u001b[0;34m,\u001b[0m\u001b[0;34m\u001b[0m\u001b[0;34m\u001b[0m\u001b[0m\n\u001b[1;32m      3\u001b[0m     \u001b[0minclude_top\u001b[0m\u001b[0;34m=\u001b[0m\u001b[0;32mFalse\u001b[0m\u001b[0;34m,\u001b[0m\u001b[0;34m\u001b[0m\u001b[0;34m\u001b[0m\u001b[0m\n\u001b[1;32m      4\u001b[0m )\n\u001b[1;32m      5\u001b[0m \u001b[0mmodel_vgg16_conv\u001b[0m\u001b[0;34m.\u001b[0m\u001b[0msummary\u001b[0m\u001b[0;34m(\u001b[0m\u001b[0;34m)\u001b[0m\u001b[0;34m\u001b[0m\u001b[0;34m\u001b[0m\u001b[0m\n",
      "\u001b[0;31mNameError\u001b[0m: name 'VGG16' is not defined"
     ]
    }
   ],
   "source": [
    "model_vgg16_conv = VGG16(\n",
    "    weights='imagenet',\n",
    "    include_top=False,\n",
    ")\n",
    "model_vgg16_conv.summary()"
   ]
  },
  {
   "cell_type": "code",
   "execution_count": null,
   "metadata": {},
   "outputs": [],
   "source": [
    "'''Step 1...\n",
    "    % Read the image\n",
    "    original = imread(filename);\n",
    "    ...\n",
    "    Step 2...\n",
    "    % Resize the image to 50x50\n",
    "    image_resized = imresize(original, scale);\n",
    "    [M N Z] = size(image_resized);\n",
    "\n",
    "    % Initialize the output image\n",
    "    image_out = zeros(height,width);\n",
    "    image_out = zeros(M,N);\n",
    "    ...\n",
    "    Step 3...\n",
    "    % Convert the image from RGB to YCbCr\n",
    "    img_ycbcr = rgb2ycbcr(image_resized);\n",
    "    Cb = img_ycbcr(:,:,2);\n",
    "    Cr = img_ycbcr(:,:,3);\n",
    "    ...\n",
    "    Step 4...\n",
    "    % Get the central color of the image\n",
    "    % Expected the hand to be in the central of the image\n",
    "    central_color = img_ycbcr(int32(M/2),int32(N/2),:);\n",
    "    Cb_Color = central_color(:,:,2);\n",
    "    Cr_Color = central_color(:,:,3);\n",
    "    % Set the range\n",
    "    Cb_Difference = 15;\n",
    "    Cr_Difference = 10;\n",
    "    ...\n",
    "    Step 5...\n",
    "    % Detect skin pixels\n",
    "    [r,c,v] = find(Cb>=Cb_Color-Cr_Difference & Cb<=Cb_Color+Cb_Difference & Cr>=Cr_Color-Cr_Difference & Cr<=Cr_Color+Cr_Difference);\n",
    "    ...\n",
    "    Step 6...\n",
    "    % Mark detected pixels\n",
    "    for i=1:match_count\n",
    "        image_out(r(i),c(i)) = 1;\n",
    "    end\n",
    "end'''"
   ]
  },
  {
   "cell_type": "code",
   "execution_count": 5,
   "metadata": {},
   "outputs": [],
   "source": [
    "cv2.namedWindow(\"imagen\", cv2.WINDOW_NORMAL)\n",
    "cv2.imshow(\"imagen\", img)\n",
    "cv2.resizeWindow(\"imagen\", 1200, 600);\n",
    "cv2.waitKey(0)\n",
    "cv2.destroyAllWindows()"
   ]
  },
  {
   "cell_type": "code",
   "execution_count": null,
   "metadata": {},
   "outputs": [],
   "source": [
    "plt.figure(figsize=(16, 16))\n",
    "plt.imshow(cv2.cvtColor(img, cv2.COLOR_BGR2RGB), interpolation='bicubic')\n",
    "plt.xticks([])\n",
    "plt.yticks([])\n",
    "plt.axvline(img.shape[1] / 2, c='r', linewidth=4)\n",
    "plt.show()"
   ]
  },
  {
   "cell_type": "code",
   "execution_count": null,
   "metadata": {},
   "outputs": [],
   "source": []
  }
 ],
 "metadata": {
  "kernelspec": {
   "display_name": "Python 3",
   "language": "python",
   "name": "python3"
  },
  "language_info": {
   "codemirror_mode": {
    "name": "ipython",
    "version": 3
   },
   "file_extension": ".py",
   "mimetype": "text/x-python",
   "name": "python",
   "nbconvert_exporter": "python",
   "pygments_lexer": "ipython3",
   "version": "3.7.3"
  }
 },
 "nbformat": 4,
 "nbformat_minor": 2
}
