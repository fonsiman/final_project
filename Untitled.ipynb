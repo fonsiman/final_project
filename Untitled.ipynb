{
 "cells": [
  {
   "cell_type": "code",
   "execution_count": 7,
   "metadata": {},
   "outputs": [
    {
     "ename": "ModuleNotFoundError",
     "evalue": "No module named 'oauth2client'",
     "output_type": "error",
     "traceback": [
      "\u001b[0;31m---------------------------------------------------------------------------\u001b[0m",
      "\u001b[0;31mModuleNotFoundError\u001b[0m                       Traceback (most recent call last)",
      "\u001b[0;32m<ipython-input-7-99f33f79b614>\u001b[0m in \u001b[0;36m<module>\u001b[0;34m()\u001b[0m\n\u001b[1;32m      2\u001b[0m \u001b[0;32mfrom\u001b[0m \u001b[0mapiclient\u001b[0m\u001b[0;34m.\u001b[0m\u001b[0mdiscovery\u001b[0m \u001b[0;32mimport\u001b[0m \u001b[0mbuild\u001b[0m\u001b[0;34m\u001b[0m\u001b[0;34m\u001b[0m\u001b[0m\n\u001b[1;32m      3\u001b[0m \u001b[0;32mimport\u001b[0m \u001b[0mhttplib2\u001b[0m\u001b[0;34m\u001b[0m\u001b[0;34m\u001b[0m\u001b[0m\n\u001b[0;32m----> 4\u001b[0;31m \u001b[0;32mfrom\u001b[0m \u001b[0moauth2client\u001b[0m \u001b[0;32mimport\u001b[0m \u001b[0mclient\u001b[0m\u001b[0;34m\u001b[0m\u001b[0;34m\u001b[0m\u001b[0m\n\u001b[0m\u001b[1;32m      5\u001b[0m \u001b[0;32mfrom\u001b[0m \u001b[0moauth2client\u001b[0m \u001b[0;32mimport\u001b[0m \u001b[0mfile\u001b[0m\u001b[0;34m\u001b[0m\u001b[0;34m\u001b[0m\u001b[0m\n\u001b[1;32m      6\u001b[0m \u001b[0;32mfrom\u001b[0m \u001b[0moauth2client\u001b[0m \u001b[0;32mimport\u001b[0m \u001b[0mtools\u001b[0m\u001b[0;34m\u001b[0m\u001b[0;34m\u001b[0m\u001b[0m\n",
      "\u001b[0;31mModuleNotFoundError\u001b[0m: No module named 'oauth2client'"
     ]
    }
   ],
   "source": [
    "import argparse\n",
    "from apiclient.discovery import build\n",
    "import httplib2\n",
    "from oauth2client import client\n",
    "from oauth2client import file\n",
    "from oauth2client import tools\n",
    "SCOPES = ['https://www.googleapis.com/auth/analytics.readonly']\n",
    "DISCOVERY_URI = ('https://analyticsreporting.googleapis.com/$discovery/rest')\n",
    "CLIENT_SECRETS_PATH = 'client_secret_.json' #replace with the path to JSON File\n",
    "VIEW_ID = '116310191' #replace the view ID\n",
    "\n",
    "def initialize_analyticsreporting():\n",
    "    parser = argparse.ArgumentParser(\n",
    "        formatter_class=argparse.RawDescriptionHelpFormatter,\n",
    "        parents=[tools.argparser])\n",
    "    flags = parser.parse_args([])\n",
    "    flow = client.flow_from_clientsecrets(\n",
    "        CLIENT_SECRETS_PATH, scope=SCOPES,\n",
    "        message=tools.message_if_missing(CLIENT_SECRETS_PATH))\n",
    "    storage = file.Storage('analyticsreporting.dat')\n",
    "    credentials = storage.get()\n",
    "    if credentials is None or credentials.invalid:\n",
    "        credentials = tools.run_flow(flow, storage, flags)\n",
    "        http = credentials.authorize(http=httplib2.Http())\n",
    "        analytics = build('analytics', 'v4', http=http, discoveryServiceUrl=DISCOVERY_URI)\n",
    "    return analytics\n",
    "\n",
    "    def get_report(analytics):\n",
    "        return analytics.reports().batchGet(\n",
    "            body={\n",
    "            'reportRequests': [\n",
    "            {\n",
    "              'viewId': VIEW_ID,\n",
    "              'dateRanges': [{'startDate': '7daysAgo', 'endDate': 'today'}],\n",
    "              'metrics': [{'expression': 'ga:sessions'}]\n",
    "            }]\n",
    "            }\n",
    "        ).execute()\n",
    "    def main():\n",
    "        analytics = initialize_analyticsreporting()\n",
    "        response = get_report(analytics) #get the response from the API\n",
    "        print(response) #print the response from the API\n",
    "    if __name__ == '__main__':\n",
    "        main()"
   ]
  },
  {
   "cell_type": "code",
   "execution_count": null,
   "metadata": {},
   "outputs": [],
   "source": []
  }
 ],
 "metadata": {
  "kernelspec": {
   "display_name": "Python 3",
   "language": "python",
   "name": "python3"
  },
  "language_info": {
   "codemirror_mode": {
    "name": "ipython",
    "version": 3
   },
   "file_extension": ".py",
   "mimetype": "text/x-python",
   "name": "python",
   "nbconvert_exporter": "python",
   "pygments_lexer": "ipython3",
   "version": "3.7.3"
  }
 },
 "nbformat": 4,
 "nbformat_minor": 2
}
